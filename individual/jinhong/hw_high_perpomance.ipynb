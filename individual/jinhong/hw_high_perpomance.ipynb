{
 "cells": [
  {
   "cell_type": "code",
   "execution_count": 1,
   "metadata": {
    "collapsed": true
   },
   "outputs": [],
   "source": [
    "import pandas as pd\n",
    "import numpy as np\n",
    "#import tensorflow as tf\n",
    "from sklearn import preprocessing "
   ]
  },
  {
   "cell_type": "code",
   "execution_count": 2,
   "metadata": {
    "collapsed": false
   },
   "outputs": [
    {
     "data": {
      "text/html": [
       "<div>\n",
       "<table border=\"1\" class=\"dataframe\">\n",
       "  <thead>\n",
       "    <tr style=\"text-align: right;\">\n",
       "      <th></th>\n",
       "      <th>L-CORE</th>\n",
       "      <th>L-SURF</th>\n",
       "      <th>L-02</th>\n",
       "      <th>L-BP</th>\n",
       "      <th>SURF-STBL</th>\n",
       "      <th>CORE-STBL</th>\n",
       "      <th>BP-STBL</th>\n",
       "      <th>COMFPRT</th>\n",
       "      <th>decision</th>\n",
       "    </tr>\n",
       "  </thead>\n",
       "  <tbody>\n",
       "    <tr>\n",
       "      <th>0</th>\n",
       "      <td>mid</td>\n",
       "      <td>low</td>\n",
       "      <td>excellent</td>\n",
       "      <td>mid</td>\n",
       "      <td>stable</td>\n",
       "      <td>stable</td>\n",
       "      <td>stable</td>\n",
       "      <td>15</td>\n",
       "      <td>A</td>\n",
       "    </tr>\n",
       "    <tr>\n",
       "      <th>1</th>\n",
       "      <td>mid</td>\n",
       "      <td>high</td>\n",
       "      <td>excellent</td>\n",
       "      <td>high</td>\n",
       "      <td>stable</td>\n",
       "      <td>stable</td>\n",
       "      <td>stable</td>\n",
       "      <td>10</td>\n",
       "      <td>S</td>\n",
       "    </tr>\n",
       "    <tr>\n",
       "      <th>2</th>\n",
       "      <td>high</td>\n",
       "      <td>low</td>\n",
       "      <td>excellent</td>\n",
       "      <td>high</td>\n",
       "      <td>stable</td>\n",
       "      <td>stable</td>\n",
       "      <td>mod-stable</td>\n",
       "      <td>10</td>\n",
       "      <td>A</td>\n",
       "    </tr>\n",
       "    <tr>\n",
       "      <th>3</th>\n",
       "      <td>mid</td>\n",
       "      <td>low</td>\n",
       "      <td>good</td>\n",
       "      <td>high</td>\n",
       "      <td>stable</td>\n",
       "      <td>unstable</td>\n",
       "      <td>mod-stable</td>\n",
       "      <td>15</td>\n",
       "      <td>A</td>\n",
       "    </tr>\n",
       "    <tr>\n",
       "      <th>4</th>\n",
       "      <td>mid</td>\n",
       "      <td>mid</td>\n",
       "      <td>excellent</td>\n",
       "      <td>high</td>\n",
       "      <td>stable</td>\n",
       "      <td>stable</td>\n",
       "      <td>stable</td>\n",
       "      <td>10</td>\n",
       "      <td>A</td>\n",
       "    </tr>\n",
       "  </tbody>\n",
       "</table>\n",
       "</div>"
      ],
      "text/plain": [
       "  L-CORE L-SURF       L-02  L-BP SURF-STBL CORE-STBL     BP-STBL COMFPRT  \\\n",
       "0    mid    low  excellent   mid    stable    stable      stable      15   \n",
       "1    mid   high  excellent  high    stable    stable      stable      10   \n",
       "2   high    low  excellent  high    stable    stable  mod-stable      10   \n",
       "3    mid    low       good  high    stable  unstable  mod-stable      15   \n",
       "4    mid    mid  excellent  high    stable    stable      stable      10   \n",
       "\n",
       "  decision  \n",
       "0        A  \n",
       "1        S  \n",
       "2        A  \n",
       "3       A   \n",
       "4        A  "
      ]
     },
     "execution_count": 2,
     "metadata": {},
     "output_type": "execute_result"
    }
   ],
   "source": [
    "data_url='http://archive.ics.uci.edu/ml/machine-learning-databases/postoperative-patient-data/post-operative.data'\n",
    "names = ['L-CORE', 'L-SURF', 'L-02', 'L-BP', 'SURF-STBL', 'CORE-STBL', 'BP-STBL', 'COMFPRT', 'decision']\n",
    "df = pd.read_csv(data_url, names=names)\n",
    "df[:5]"
   ]
  },
  {
   "cell_type": "code",
   "execution_count": 3,
   "metadata": {
    "collapsed": false
   },
   "outputs": [
    {
     "data": {
      "text/html": [
       "<div>\n",
       "<table border=\"1\" class=\"dataframe\">\n",
       "  <thead>\n",
       "    <tr style=\"text-align: right;\">\n",
       "      <th></th>\n",
       "      <th>L-CORE</th>\n",
       "      <th>L-SURF</th>\n",
       "      <th>L-02</th>\n",
       "      <th>L-BP</th>\n",
       "      <th>SURF-STBL</th>\n",
       "      <th>CORE-STBL</th>\n",
       "      <th>BP-STBL</th>\n",
       "      <th>COMFPRT</th>\n",
       "      <th>decision</th>\n",
       "    </tr>\n",
       "  </thead>\n",
       "  <tbody>\n",
       "    <tr>\n",
       "      <th>0</th>\n",
       "      <td>mid</td>\n",
       "      <td>low</td>\n",
       "      <td>excellent</td>\n",
       "      <td>mid</td>\n",
       "      <td>stable</td>\n",
       "      <td>stable</td>\n",
       "      <td>stable</td>\n",
       "      <td>15</td>\n",
       "      <td>A</td>\n",
       "    </tr>\n",
       "    <tr>\n",
       "      <th>1</th>\n",
       "      <td>mid</td>\n",
       "      <td>high</td>\n",
       "      <td>excellent</td>\n",
       "      <td>high</td>\n",
       "      <td>stable</td>\n",
       "      <td>stable</td>\n",
       "      <td>stable</td>\n",
       "      <td>10</td>\n",
       "      <td>S</td>\n",
       "    </tr>\n",
       "    <tr>\n",
       "      <th>2</th>\n",
       "      <td>high</td>\n",
       "      <td>low</td>\n",
       "      <td>excellent</td>\n",
       "      <td>high</td>\n",
       "      <td>stable</td>\n",
       "      <td>stable</td>\n",
       "      <td>mod-stable</td>\n",
       "      <td>10</td>\n",
       "      <td>A</td>\n",
       "    </tr>\n",
       "    <tr>\n",
       "      <th>3</th>\n",
       "      <td>mid</td>\n",
       "      <td>low</td>\n",
       "      <td>good</td>\n",
       "      <td>high</td>\n",
       "      <td>stable</td>\n",
       "      <td>unstable</td>\n",
       "      <td>mod-stable</td>\n",
       "      <td>15</td>\n",
       "      <td>A</td>\n",
       "    </tr>\n",
       "    <tr>\n",
       "      <th>4</th>\n",
       "      <td>mid</td>\n",
       "      <td>mid</td>\n",
       "      <td>excellent</td>\n",
       "      <td>high</td>\n",
       "      <td>stable</td>\n",
       "      <td>stable</td>\n",
       "      <td>stable</td>\n",
       "      <td>10</td>\n",
       "      <td>A</td>\n",
       "    </tr>\n",
       "  </tbody>\n",
       "</table>\n",
       "</div>"
      ],
      "text/plain": [
       "  L-CORE L-SURF       L-02  L-BP SURF-STBL CORE-STBL     BP-STBL COMFPRT  \\\n",
       "0    mid    low  excellent   mid    stable    stable      stable      15   \n",
       "1    mid   high  excellent  high    stable    stable      stable      10   \n",
       "2   high    low  excellent  high    stable    stable  mod-stable      10   \n",
       "3    mid    low       good  high    stable  unstable  mod-stable      15   \n",
       "4    mid    mid  excellent  high    stable    stable      stable      10   \n",
       "\n",
       "  decision  \n",
       "0        A  \n",
       "1        S  \n",
       "2        A  \n",
       "3        A  \n",
       "4        A  "
      ]
     },
     "execution_count": 3,
     "metadata": {},
     "output_type": "execute_result"
    }
   ],
   "source": [
    "df['decision'][3]=df['decision'][4]\n",
    "df[:5]"
   ]
  },
  {
   "cell_type": "code",
   "execution_count": 4,
   "metadata": {
    "collapsed": false
   },
   "outputs": [],
   "source": [
    "int_data = df['COMFPRT'] [df['COMFPRT'] != '?'].astype('int64')\n",
    "\n",
    "#df[\"COMFPRT\"] = df[\"COMFPRT\"].astype(\"int64\")\n",
    "\n",
    "average=sum(int_data)/len(int_data)\n",
    "\n",
    "df['COMFPRT'] [df['COMFPRT'] == '?']=str(average)\n",
    "\n",
    "for c in ['L-CORE', 'L-SURF', 'L-02', 'L-BP', 'SURF-STBL', 'CORE-STBL', 'BP-STBL', 'decision','COMFPRT']:\n",
    "    df[c] = df[c].astype('category')"
   ]
  },
  {
   "cell_type": "code",
   "execution_count": 5,
   "metadata": {
    "collapsed": false
   },
   "outputs": [],
   "source": [
    "# df_modified=pd.get_dummies(df)\n",
    "# df_modified[:5]\n",
    "\n",
    "y_data=df.pop('decision')\n",
    "x_data=pd.get_dummies(df).values\n",
    "\n"
   ]
  },
  {
   "cell_type": "code",
   "execution_count": 6,
   "metadata": {
    "collapsed": false
   },
   "outputs": [
    {
     "data": {
      "text/html": [
       "<div>\n",
       "<table border=\"1\" class=\"dataframe\">\n",
       "  <thead>\n",
       "    <tr style=\"text-align: right;\">\n",
       "      <th></th>\n",
       "      <th>L-CORE_high</th>\n",
       "      <th>L-CORE_low</th>\n",
       "      <th>L-CORE_mid</th>\n",
       "      <th>L-SURF_high</th>\n",
       "      <th>L-SURF_low</th>\n",
       "      <th>L-SURF_mid</th>\n",
       "      <th>L-02_excellent</th>\n",
       "      <th>L-02_good</th>\n",
       "      <th>L-BP_high</th>\n",
       "      <th>L-BP_low</th>\n",
       "      <th>...</th>\n",
       "      <th>CORE-STBL_stable</th>\n",
       "      <th>CORE-STBL_unstable</th>\n",
       "      <th>BP-STBL_mod-stable</th>\n",
       "      <th>BP-STBL_stable</th>\n",
       "      <th>BP-STBL_unstable</th>\n",
       "      <th>COMFPRT_05</th>\n",
       "      <th>COMFPRT_07</th>\n",
       "      <th>COMFPRT_10</th>\n",
       "      <th>COMFPRT_10.9425287356</th>\n",
       "      <th>COMFPRT_15</th>\n",
       "    </tr>\n",
       "  </thead>\n",
       "  <tbody>\n",
       "    <tr>\n",
       "      <th>0</th>\n",
       "      <td>0.0</td>\n",
       "      <td>0.0</td>\n",
       "      <td>1.0</td>\n",
       "      <td>0.0</td>\n",
       "      <td>1.0</td>\n",
       "      <td>0.0</td>\n",
       "      <td>1.0</td>\n",
       "      <td>0.0</td>\n",
       "      <td>0.0</td>\n",
       "      <td>0.0</td>\n",
       "      <td>...</td>\n",
       "      <td>1.0</td>\n",
       "      <td>0.0</td>\n",
       "      <td>0.0</td>\n",
       "      <td>1.0</td>\n",
       "      <td>0.0</td>\n",
       "      <td>0.0</td>\n",
       "      <td>0.0</td>\n",
       "      <td>0.0</td>\n",
       "      <td>0.0</td>\n",
       "      <td>1.0</td>\n",
       "    </tr>\n",
       "    <tr>\n",
       "      <th>1</th>\n",
       "      <td>0.0</td>\n",
       "      <td>0.0</td>\n",
       "      <td>1.0</td>\n",
       "      <td>1.0</td>\n",
       "      <td>0.0</td>\n",
       "      <td>0.0</td>\n",
       "      <td>1.0</td>\n",
       "      <td>0.0</td>\n",
       "      <td>1.0</td>\n",
       "      <td>0.0</td>\n",
       "      <td>...</td>\n",
       "      <td>1.0</td>\n",
       "      <td>0.0</td>\n",
       "      <td>0.0</td>\n",
       "      <td>1.0</td>\n",
       "      <td>0.0</td>\n",
       "      <td>0.0</td>\n",
       "      <td>0.0</td>\n",
       "      <td>1.0</td>\n",
       "      <td>0.0</td>\n",
       "      <td>0.0</td>\n",
       "    </tr>\n",
       "    <tr>\n",
       "      <th>2</th>\n",
       "      <td>1.0</td>\n",
       "      <td>0.0</td>\n",
       "      <td>0.0</td>\n",
       "      <td>0.0</td>\n",
       "      <td>1.0</td>\n",
       "      <td>0.0</td>\n",
       "      <td>1.0</td>\n",
       "      <td>0.0</td>\n",
       "      <td>1.0</td>\n",
       "      <td>0.0</td>\n",
       "      <td>...</td>\n",
       "      <td>1.0</td>\n",
       "      <td>0.0</td>\n",
       "      <td>1.0</td>\n",
       "      <td>0.0</td>\n",
       "      <td>0.0</td>\n",
       "      <td>0.0</td>\n",
       "      <td>0.0</td>\n",
       "      <td>1.0</td>\n",
       "      <td>0.0</td>\n",
       "      <td>0.0</td>\n",
       "    </tr>\n",
       "    <tr>\n",
       "      <th>3</th>\n",
       "      <td>0.0</td>\n",
       "      <td>0.0</td>\n",
       "      <td>1.0</td>\n",
       "      <td>0.0</td>\n",
       "      <td>1.0</td>\n",
       "      <td>0.0</td>\n",
       "      <td>0.0</td>\n",
       "      <td>1.0</td>\n",
       "      <td>1.0</td>\n",
       "      <td>0.0</td>\n",
       "      <td>...</td>\n",
       "      <td>0.0</td>\n",
       "      <td>1.0</td>\n",
       "      <td>1.0</td>\n",
       "      <td>0.0</td>\n",
       "      <td>0.0</td>\n",
       "      <td>0.0</td>\n",
       "      <td>0.0</td>\n",
       "      <td>0.0</td>\n",
       "      <td>0.0</td>\n",
       "      <td>1.0</td>\n",
       "    </tr>\n",
       "    <tr>\n",
       "      <th>4</th>\n",
       "      <td>0.0</td>\n",
       "      <td>0.0</td>\n",
       "      <td>1.0</td>\n",
       "      <td>0.0</td>\n",
       "      <td>0.0</td>\n",
       "      <td>1.0</td>\n",
       "      <td>1.0</td>\n",
       "      <td>0.0</td>\n",
       "      <td>1.0</td>\n",
       "      <td>0.0</td>\n",
       "      <td>...</td>\n",
       "      <td>1.0</td>\n",
       "      <td>0.0</td>\n",
       "      <td>0.0</td>\n",
       "      <td>1.0</td>\n",
       "      <td>0.0</td>\n",
       "      <td>0.0</td>\n",
       "      <td>0.0</td>\n",
       "      <td>1.0</td>\n",
       "      <td>0.0</td>\n",
       "      <td>0.0</td>\n",
       "    </tr>\n",
       "  </tbody>\n",
       "</table>\n",
       "<p>5 rows × 24 columns</p>\n",
       "</div>"
      ],
      "text/plain": [
       "   L-CORE_high  L-CORE_low  L-CORE_mid  L-SURF_high  L-SURF_low  L-SURF_mid  \\\n",
       "0          0.0         0.0         1.0          0.0         1.0         0.0   \n",
       "1          0.0         0.0         1.0          1.0         0.0         0.0   \n",
       "2          1.0         0.0         0.0          0.0         1.0         0.0   \n",
       "3          0.0         0.0         1.0          0.0         1.0         0.0   \n",
       "4          0.0         0.0         1.0          0.0         0.0         1.0   \n",
       "\n",
       "   L-02_excellent  L-02_good  L-BP_high  L-BP_low     ...      \\\n",
       "0             1.0        0.0        0.0       0.0     ...       \n",
       "1             1.0        0.0        1.0       0.0     ...       \n",
       "2             1.0        0.0        1.0       0.0     ...       \n",
       "3             0.0        1.0        1.0       0.0     ...       \n",
       "4             1.0        0.0        1.0       0.0     ...       \n",
       "\n",
       "   CORE-STBL_stable  CORE-STBL_unstable  BP-STBL_mod-stable  BP-STBL_stable  \\\n",
       "0               1.0                 0.0                 0.0             1.0   \n",
       "1               1.0                 0.0                 0.0             1.0   \n",
       "2               1.0                 0.0                 1.0             0.0   \n",
       "3               0.0                 1.0                 1.0             0.0   \n",
       "4               1.0                 0.0                 0.0             1.0   \n",
       "\n",
       "   BP-STBL_unstable  COMFPRT_05  COMFPRT_07  COMFPRT_10  \\\n",
       "0               0.0         0.0         0.0         0.0   \n",
       "1               0.0         0.0         0.0         1.0   \n",
       "2               0.0         0.0         0.0         1.0   \n",
       "3               0.0         0.0         0.0         0.0   \n",
       "4               0.0         0.0         0.0         1.0   \n",
       "\n",
       "   COMFPRT_10.9425287356  COMFPRT_15  \n",
       "0                    0.0         1.0  \n",
       "1                    0.0         0.0  \n",
       "2                    0.0         0.0  \n",
       "3                    0.0         1.0  \n",
       "4                    0.0         0.0  \n",
       "\n",
       "[5 rows x 24 columns]"
      ]
     },
     "execution_count": 6,
     "metadata": {},
     "output_type": "execute_result"
    }
   ],
   "source": [
    "df=pd.get_dummies(df)\n",
    "df[:5]"
   ]
  },
  {
   "cell_type": "code",
   "execution_count": 7,
   "metadata": {
    "collapsed": false
   },
   "outputs": [
    {
     "name": "stderr",
     "output_type": "stream",
     "text": [
      "C:\\Users\\진홍\\Anaconda3\\lib\\site-packages\\sklearn\\preprocessing\\data.py:324: DeprecationWarning: Passing 1d arrays as data is deprecated in 0.17 and will raise ValueError in 0.19. Reshape your data either using X.reshape(-1, 1) if your data has a single feature or X.reshape(1, -1) if it contains a single sample.\n",
      "  warnings.warn(DEPRECATION_MSG_1D, DeprecationWarning)\n",
      "C:\\Users\\진홍\\Anaconda3\\lib\\site-packages\\sklearn\\preprocessing\\data.py:359: DeprecationWarning: Passing 1d arrays as data is deprecated in 0.17 and will raise ValueError in 0.19. Reshape your data either using X.reshape(-1, 1) if your data has a single feature or X.reshape(1, -1) if it contains a single sample.\n",
      "  warnings.warn(DEPRECATION_MSG_1D, DeprecationWarning)\n"
     ]
    },
    {
     "data": {
      "text/plain": [
       "array([ 0.,  0.,  1.,  0.,  0.])"
      ]
     },
     "execution_count": 7,
     "metadata": {},
     "output_type": "execute_result"
    }
   ],
   "source": [
    "from sklearn import preprocessing\n",
    "\n",
    "min_max_scaler = preprocessing.MinMaxScaler()\n",
    "x_data[:,0]=min_max_scaler.fit_transform(x_data[:,0])\n",
    "\n",
    "x_data[:5,0]"
   ]
  },
  {
   "cell_type": "code",
   "execution_count": 8,
   "metadata": {
    "collapsed": false
   },
   "outputs": [],
   "source": [
    "# from sklearn import linear_model, datasets\n",
    "\n",
    "# result_list=[]\n",
    "# for i in range(100):\n",
    "    \n",
    "#     training_idx = np.random.randint(y_data.shape[0], size=int(y_data.shape[0] * 0.8))\n",
    "#     test_idx = np.random.randint(y_data.shape[0], size=int(y_data.shape[0] * 0.2))\n",
    "\n",
    "#     x_training, x_test = x_data[training_idx,:], x_data[test_idx,:]\n",
    "#     y_training, y_test = y_data[training_idx], y_data[test_idx]\n",
    "\n",
    "\n",
    "#     logreg = linear_model.LogisticRegression(multi_class='multinomial', fit_intercept=True, solver=\"lbfgs\")\n",
    "#     logreg.fit(x_training, y_training)\n",
    "\n",
    "#     per= sum(logreg.predict(x_test) == y_test)  / y_test.shape[0]\n",
    "#     #print(per)\n",
    "#     result_list.append(per)\n",
    "# print(sum(result_list)/len(result_list))"
   ]
  },
  {
   "cell_type": "code",
   "execution_count": 9,
   "metadata": {
    "collapsed": false
   },
   "outputs": [
    {
     "name": "stdout",
     "output_type": "stream",
     "text": [
      "0.664444444444\n"
     ]
    }
   ],
   "source": [
    "from sklearn.cross_validation import KFold,ShuffleSplit\n",
    "from sklearn.linear_model import LogisticRegression\n",
    "\n",
    "average_perpomance=np.zeros(100)\n",
    "cv  = ShuffleSplit(len(y_data),  n_iter=100, test_size=0.3, random_state=0)\n",
    "\n",
    "y_data = np.array(y_data)\n",
    "x_data = np.array(x_data)\n",
    "\n",
    "for num,(train_index, test_index) in enumerate(cv) :\n",
    "    x_train, x_test = x_data[train_index], x_data[test_index]\n",
    "    y_train, y_test = y_data[train_index], y_data[test_index]\n",
    "    \n",
    "    clf = LogisticRegression()\n",
    "    clf.fit(x_train, y_train)\n",
    "    result = clf.predict(x_test)\n",
    "   \n",
    "    average_perpomance[num]=(sum(result == y_test) / len(y_test))\n",
    "\n",
    "print(sum(average_perpomance)/len(average_perpomance))"
   ]
  },
  {
   "cell_type": "code",
   "execution_count": 10,
   "metadata": {
    "collapsed": false
   },
   "outputs": [],
   "source": [
    "##이거 성능향상 코드 NB\n",
    "\n",
    "# from sklearn.cross_validation import KFold,ShuffleSplit\n",
    "# from sklearn.naive_bayes import MultinomialNB\n",
    "\n",
    "# average_perpomance=np.zeros(100)\n",
    "# cv  = ShuffleSplit(len(y_data),  n_iter=100, test_size=0.3, random_state=0)\n",
    "\n",
    "# y_data = np.array(y_data)\n",
    "# x_data = np.array(x_data)\n",
    "\n",
    "# for num,(train_index, test_index) in enumerate(cv) :\n",
    "#     x_train, x_test = x_data[train_index], x_data[test_index]\n",
    "#     y_train, y_test = y_data[train_index], y_data[test_index]\n",
    "    \n",
    "#     clf = MultinomialNB()\n",
    "#     clf.fit(x_train, y_train)\n",
    "#     result = clf.predict(x_test)\n",
    "   \n",
    "#     average_perpomance[num]=(sum(result == y_test) / len(y_test))\n",
    "\n",
    "# print(sum(average_perpomance)/len(average_perpomance))"
   ]
  },
  {
   "cell_type": "code",
   "execution_count": 11,
   "metadata": {
    "collapsed": true
   },
   "outputs": [],
   "source": [
    "import copy\n",
    "\n",
    "df2=df.copy()\n",
    "\n",
    "df2['a'] = df['CORE-STBL_unstable']+df['L-BP_low']\n",
    "\n",
    "df2=df2.values\n",
    "df2=df2[:,:-5]"
   ]
  },
  {
   "cell_type": "code",
   "execution_count": 12,
   "metadata": {
    "collapsed": false
   },
   "outputs": [],
   "source": [
    "\n",
    "\n",
    "# df2 = df.copy().values\n",
    "\n",
    "# df2=df2[:,:-5]\n",
    "\n",
    "# df2[:5],df2.shape\n",
    "\n",
    "#core r과녈ㄴ 변수\n",
    "\n",
    "#df2['gufdkq'] = df[\"L-BP_high\"]+df[\"CORE-STBL_unstable\"]\n",
    "#df2['dd']=df[\"L-BP_mid\"]+df[\"CORE-STBL_stable\"]\n",
    "\n",
    "\n",
    "# df2['CORE'] = 0\n",
    "# df2['CORE'][np.logical_and(df['L-CORE_high']==1,df['CORE-STBL_unstable']==1)]=1\n",
    "\n",
    "# #surface 과녈ㄴ 변수\n",
    "\n",
    "# df2['SURF'] = 0\n",
    "# df2['SURF'][np.logical_and(df['L-SURF_high']==1,df['SURF-STBL_unstable']==1)]=1\n",
    "\n",
    "# #bp 관련 변수\n",
    "\n",
    "# df2['BP'] = 0\n",
    "# df2['BP'][np.logical_and(df['L-BP_low']==1,df['BP-STBL_stable']==1)]=1\n",
    "\n",
    "\n",
    "\n",
    "#df2['all_fine']= df[\"L-CORE_mid\"]+df[\"L-SURF_mid\"]+df[\"L-02_excellent\"]+df[\"L-BP_mid\"]+df[\"CORE-STBL_stable\"]+df[\"SURF-STBL_stable\"]+df[\"BP-STBL_stable\"]"
   ]
  },
  {
   "cell_type": "code",
   "execution_count": 13,
   "metadata": {
    "collapsed": false
   },
   "outputs": [],
   "source": [
    "# import copy\n",
    "\n",
    "#df3 = df2[:ix].copy()\n",
    "# #모든 증상이 모두 안좋을때 -->중환자실 가능성 높아짐\n",
    "#df3['all_bad'] = df2[\"L-CORE_high\"]+df2[\"L-SURF_high\"]+df2[\"L-BP_high\"]+df2[\"SURF-STBL_unstable\"]+df2[\"CORE-STBL_unstable\"]+df[\"BP-STBL_unstable\"]\n",
    "\n",
    "\n",
    "# #모든 증상이 모두 괜찮을때-->퇴원 가능성 높아짐 \n",
    "\n",
    "\n",
    "#df3['all_fine']= df2[\"L-CORE_mid\"]+df2[\"L-SURF_mid\"]+df2[\"L-02_excellent\"]+df2[\"L-BP_mid\"]+df2[\"CORE-STBL_stable\"]+df2[\"SURF-STBL_stable\"]+df2[\"BP-STBL_stable\"]"
   ]
  },
  {
   "cell_type": "code",
   "execution_count": 14,
   "metadata": {
    "collapsed": false
   },
   "outputs": [],
   "source": [
    "# df2.shape"
   ]
  },
  {
   "cell_type": "code",
   "execution_count": 15,
   "metadata": {
    "collapsed": false
   },
   "outputs": [
    {
     "data": {
      "text/plain": [
       "((90,), (90, 20))"
      ]
     },
     "execution_count": 15,
     "metadata": {},
     "output_type": "execute_result"
    }
   ],
   "source": [
    "x_data=df2\n",
    "y_data.shape, x_data.shape"
   ]
  },
  {
   "cell_type": "code",
   "execution_count": 16,
   "metadata": {
    "collapsed": false
   },
   "outputs": [
    {
     "name": "stdout",
     "output_type": "stream",
     "text": [
      "0.675555555556\n"
     ]
    }
   ],
   "source": [
    "\n",
    "\n",
    "from sklearn.cross_validation import KFold,ShuffleSplit\n",
    "# from sklearn.naive_bayes import MultinomialNB\n",
    "\n",
    "average_perpomance=np.zeros(100)\n",
    "cv  = ShuffleSplit(len(y_data),  n_iter=100, test_size=0.3, random_state=0)\n",
    "\n",
    "y_data = np.array(y_data)\n",
    "x_data = np.array(x_data)\n",
    "\n",
    "for num,(train_index, test_index) in enumerate(cv) :\n",
    "    x_train, x_test = x_data[train_index], x_data[test_index]\n",
    "    y_train, y_test = y_data[train_index], y_data[test_index]\n",
    "    \n",
    "    clf = LogisticRegression()\n",
    "    clf.fit(x_train, y_train)\n",
    "    result = clf.predict(x_test)\n",
    "   \n",
    "    average_perpomance[num]=(sum(result == y_test) / len(y_test))\n",
    "\n",
    "print(sum(average_perpomance)/len(average_perpomance))"
   ]
  },
  {
   "cell_type": "code",
   "execution_count": 17,
   "metadata": {
    "collapsed": false
   },
   "outputs": [
    {
     "name": "stdout",
     "output_type": "stream",
     "text": [
      "0.672592592593\n"
     ]
    }
   ],
   "source": [
    "# from sklearn.cross_validation import KFold,ShuffleSplit\n",
    "# from sklearn.naive_bayes import MultinomialNB\n",
    "\n",
    "# average_perpomance=np.zeros(100)\n",
    "# cv  = ShuffleSplit(len(y_data),  n_iter=100, test_size=0.3, random_state=0)\n",
    "\n",
    "# y_data = np.array(y_data)\n",
    "# x_data = np.array(x_data)\n",
    "\n",
    "# for num,(train_index, test_index) in enumerate(cv) :\n",
    "#     x_train, x_test = x_data[train_index], x_data[test_index]\n",
    "#     y_train, y_test = y_data[train_index], y_data[test_index]\n",
    "    \n",
    "#     clf = MultinomialNB()\n",
    "#     clf.fit(x_train, y_train)\n",
    "#     result = clf.predict(x_test)\n",
    "   \n",
    "#     average_perpomance[num]=(sum(result == y_test) / len(y_test))\n",
    "\n",
    "# print(sum(average_perpomance)/len(average_perpomance))"
   ]
  },
  {
   "cell_type": "code",
   "execution_count": 18,
   "metadata": {
    "collapsed": false
   },
   "outputs": [
    {
     "name": "stdout",
     "output_type": "stream",
     "text": [
      "0.901851851852\n"
     ]
    }
   ],
   "source": [
    "from sklearn import tree\n",
    "\n",
    "average_perpomance=np.zeros(100)\n",
    "cv  = ShuffleSplit(len(y_data),  n_iter=100, test_size=0.3, random_state=0)\n",
    "\n",
    "y_data = np.array(y_data)\n",
    "x_data = np.array(x_data)\n",
    "\n",
    "for num,(train_index, test_index) in enumerate(cv) :\n",
    "    x_train, x_test = x_data[train_index], x_data[test_index]\n",
    "    y_train, y_test = y_data[train_index], y_data[test_index]\n",
    "    \n",
    "    clf = tree.DecisionTreeClassifier()\n",
    "    clf = clf.fit(x_data, y_data)\n",
    "    result = clf.predict(x_test)\n",
    "   \n",
    "    average_perpomance[num]=(sum(result == y_test) / len(y_test))\n",
    "\n",
    "print(sum(average_perpomance)/len(average_perpomance))\n",
    "\n"
   ]
  }
 ],
 "metadata": {
  "kernelspec": {
   "display_name": "Python 3",
   "language": "python",
   "name": "python3"
  },
  "language_info": {
   "codemirror_mode": {
    "name": "ipython",
    "version": 3
   },
   "file_extension": ".py",
   "mimetype": "text/x-python",
   "name": "python",
   "nbconvert_exporter": "python",
   "pygments_lexer": "ipython3",
   "version": "3.5.2"
  }
 },
 "nbformat": 4,
 "nbformat_minor": 0
}
